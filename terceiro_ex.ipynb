{
  "nbformat": 4,
  "nbformat_minor": 0,
  "metadata": {
    "colab": {
      "provenance": [],
      "authorship_tag": "ABX9TyOZEhomlEw18zSpZ0rgxV6w",
      "include_colab_link": true
    },
    "kernelspec": {
      "name": "python3",
      "display_name": "Python 3"
    },
    "language_info": {
      "name": "python"
    }
  },
  "cells": [
    {
      "cell_type": "markdown",
      "metadata": {
        "id": "view-in-github",
        "colab_type": "text"
      },
      "source": [
        "<a href=\"https://colab.research.google.com/github/jotapesete7/Minhas-aulas/blob/main/terceiro_ex.ipynb\" target=\"_parent\"><img src=\"https://colab.research.google.com/assets/colab-badge.svg\" alt=\"Open In Colab\"/></a>"
      ]
    },
    {
      "cell_type": "code",
      "source": [],
      "metadata": {
        "id": "S89mkjm-Blag"
      },
      "execution_count": null,
      "outputs": []
    },
    {
      "cell_type": "code",
      "source": [
        "numeros = input (\"Digite uma lista de números separados por vírgula:\")\n",
        "numeros_lista = numeros.split(\",\")\n",
        "soma = 0\n",
        "numeros = input (\"Digite uma lista de números separados por vírgula:\")\n",
        "numeros_lista = numeros.split(\",\")\n",
        "soma = 0\n",
        "for numero in numeros_lista:\n",
        "  if int(numero) %  2 == 1:\n",
        "    soma += int(numero)\n",
        "print(\"A soma de todos os números ímpares na lista é:\", soma)"
      ],
      "metadata": {
        "colab": {
          "base_uri": "https://localhost:8080/",
          "height": 106
        },
        "id": "sbxCKI5DBVUn",
        "outputId": "68e4440d-6424-4dc1-d11c-e94332eed858"
      },
      "execution_count": 5,
      "outputs": [
        {
          "output_type": "error",
          "ename": "SyntaxError",
          "evalue": "invalid syntax (<ipython-input-5-9b4424046de3>, line 6)",
          "traceback": [
            "\u001b[0;36m  File \u001b[0;32m\"<ipython-input-5-9b4424046de3>\"\u001b[0;36m, line \u001b[0;32m6\u001b[0m\n\u001b[0;31m    soma += in(numero)\u001b[0m\n\u001b[0m            ^\u001b[0m\n\u001b[0;31mSyntaxError\u001b[0m\u001b[0;31m:\u001b[0m invalid syntax\n"
          ]
        }
      ]
    }
  ]
}