{
  "nbformat": 4,
  "nbformat_minor": 0,
  "metadata": {
    "colab": {
      "provenance": [],
      "authorship_tag": "ABX9TyPblZaFkaWkNqvHj4gqAXVl",
      "include_colab_link": true
    },
    "kernelspec": {
      "name": "python3",
      "display_name": "Python 3"
    },
    "language_info": {
      "name": "python"
    }
  },
  "cells": [
    {
      "cell_type": "markdown",
      "metadata": {
        "id": "view-in-github",
        "colab_type": "text"
      },
      "source": [
        "<a href=\"https://colab.research.google.com/github/jotapesete7/Minhas-aulas/blob/main/segundo_ex.ipynb\" target=\"_parent\"><img src=\"https://colab.research.google.com/assets/colab-badge.svg\" alt=\"Open In Colab\"/></a>"
      ]
    },
    {
      "cell_type": "code",
      "source": [
        "import pandas as pd"
      ],
      "metadata": {
        "id": "O9M8To4gkRrT"
      },
      "execution_count": 19,
      "outputs": []
    },
    {
      "cell_type": "code",
      "source": [
        "produtos = {\n",
        "  \"produto\": [\"Lápis\", \"caneta\", \"borracha\", \"caderno\", \"mochila\", \"apontador\"],\n",
        "  \"preço\": [1.5, 2.0, 0.5, 10.0, 30.0, 1.0 ]\n",
        "  }\n",
        ""
      ],
      "metadata": {
        "id": "GtBblRrzkVwz"
      },
      "execution_count": 24,
      "outputs": []
    },
    {
      "cell_type": "code",
      "source": [
        " df = pd.DataFrame(produtos)\n",
        " print(\"Dataframe:\")\n",
        " print(df)\n"
      ],
      "metadata": {
        "colab": {
          "base_uri": "https://localhost:8080/"
        },
        "id": "m2v-a3rjmgsv",
        "outputId": "4e704977-6ad5-4423-d67f-add8f0343ccd"
      },
      "execution_count": 31,
      "outputs": [
        {
          "output_type": "stream",
          "name": "stdout",
          "text": [
            "Dataframe:\n",
            "     produto  preço\n",
            "0      Lápis    1.5\n",
            "1     caneta    2.0\n",
            "2   borracha    0.5\n",
            "3    caderno   10.0\n",
            "4    mochila   30.0\n",
            "5  apontador    1.0\n"
          ]
        }
      ]
    },
    {
      "cell_type": "code",
      "source": [
        "media_precos = df[\"preço\"].mean()\n",
        "print(\"Média de preços:\", media_precos)"
      ],
      "metadata": {
        "colab": {
          "base_uri": "https://localhost:8080/"
        },
        "id": "p8Jmiu5lnUPl",
        "outputId": "ab96fbbd-fb23-4836-e9c6-9c80bc57dd9c"
      },
      "execution_count": 33,
      "outputs": [
        {
          "output_type": "stream",
          "name": "stdout",
          "text": [
            "Média de preços: 7.5\n"
          ]
        }
      ]
    }
  ]
}