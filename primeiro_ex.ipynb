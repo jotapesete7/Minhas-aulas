{
  "nbformat": 4,
  "nbformat_minor": 0,
  "metadata": {
    "colab": {
      "provenance": [],
      "authorship_tag": "ABX9TyNyYVbUoKw4tLQs87XZFTB4",
      "include_colab_link": true
    },
    "kernelspec": {
      "name": "python3",
      "display_name": "Python 3"
    },
    "language_info": {
      "name": "python"
    }
  },
  "cells": [
    {
      "cell_type": "markdown",
      "metadata": {
        "id": "view-in-github",
        "colab_type": "text"
      },
      "source": [
        "<a href=\"https://colab.research.google.com/github/jotapesete7/Minhas-aulas/blob/main/primeiro_ex.ipynb\" target=\"_parent\"><img src=\"https://colab.research.google.com/assets/colab-badge.svg\" alt=\"Open In Colab\"/></a>"
      ]
    },
    {
      "cell_type": "code",
      "execution_count": 13,
      "metadata": {
        "id": "y_gLdOxYeBoC"
      },
      "outputs": [],
      "source": [
        "import numpy as np\n"
      ]
    },
    {
      "cell_type": "code",
      "source": [
        "matriz = np.random.rand(3,3)\n",
        "print('Matriz original:')\n",
        "print(matriz)\n"
      ],
      "metadata": {
        "colab": {
          "base_uri": "https://localhost:8080/"
        },
        "id": "44QNZxhFh58j",
        "outputId": "41f214f5-3f95-470f-e371-2a916827285f"
      },
      "execution_count": 16,
      "outputs": [
        {
          "output_type": "stream",
          "name": "stdout",
          "text": [
            "Matriz original:\n",
            "[[0.36255751 0.55983361 0.36468958]\n",
            " [0.34486068 0.35243185 0.34134094]\n",
            " [0.23176685 0.64279566 0.13993284]]\n"
          ]
        }
      ]
    },
    {
      "cell_type": "code",
      "source": [
        "matriz_transposta = np.transpose(matriz)\n",
        "print('Matriz transposta:')\n",
        "print(matriz_transposta)"
      ],
      "metadata": {
        "colab": {
          "base_uri": "https://localhost:8080/"
        },
        "id": "GtxtYnp5iofl",
        "outputId": "26d4dfac-9574-441b-8c1a-197019de518b"
      },
      "execution_count": 18,
      "outputs": [
        {
          "output_type": "stream",
          "name": "stdout",
          "text": [
            "Matriz transposta:\n",
            "[[0.36255751 0.34486068 0.23176685]\n",
            " [0.55983361 0.35243185 0.64279566]\n",
            " [0.36468958 0.34134094 0.13993284]]\n"
          ]
        }
      ]
    }
  ]
}