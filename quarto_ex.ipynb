{
  "nbformat": 4,
  "nbformat_minor": 0,
  "metadata": {
    "colab": {
      "provenance": [],
      "authorship_tag": "ABX9TyOgNfcddf6xOMrpe8jwukot",
      "include_colab_link": true
    },
    "kernelspec": {
      "name": "python3",
      "display_name": "Python 3"
    },
    "language_info": {
      "name": "python"
    }
  },
  "cells": [
    {
      "cell_type": "markdown",
      "metadata": {
        "id": "view-in-github",
        "colab_type": "text"
      },
      "source": [
        "<a href=\"https://colab.research.google.com/github/jotapesete7/Minhas-aulas/blob/main/quarto_ex.ipynb\" target=\"_parent\"><img src=\"https://colab.research.google.com/assets/colab-badge.svg\" alt=\"Open In Colab\"/></a>"
      ]
    },
    {
      "cell_type": "code",
      "source": [
        "import random\n",
        "lista_numeros = []\n",
        "import random\n",
        "lista_numeros = []\n",
        "for i in range(10):\n",
        "  lista_numeros.append(random.randint(1,100))\n",
        "  print(\"Lista de números:\",lista_numeros)\n",
        "maior_numero = max(lista_numeros)\n",
        "menor_numero = min(lista_numeros)\n",
        "print(\"Maior número:\", maior_numero)\n",
        "print(\"Menor número:\", menor_numero)\n"
      ],
      "metadata": {
        "colab": {
          "base_uri": "https://localhost:8080/"
        },
        "id": "S89mkjm-Blag",
        "outputId": "60f2f382-932f-4dff-a332-0daf22b14cc6"
      },
      "execution_count": 10,
      "outputs": [
        {
          "output_type": "stream",
          "name": "stdout",
          "text": [
            "Lista de números: [76]\n",
            "Lista de números: [76, 100]\n",
            "Lista de números: [76, 100, 17]\n",
            "Lista de números: [76, 100, 17, 11]\n",
            "Lista de números: [76, 100, 17, 11, 91]\n",
            "Lista de números: [76, 100, 17, 11, 91, 89]\n",
            "Lista de números: [76, 100, 17, 11, 91, 89, 93]\n",
            "Lista de números: [76, 100, 17, 11, 91, 89, 93, 64]\n",
            "Lista de números: [76, 100, 17, 11, 91, 89, 93, 64, 95]\n",
            "Lista de números: [76, 100, 17, 11, 91, 89, 93, 64, 95, 31]\n",
            "Maior número: 100\n",
            "Menor número: 11\n"
          ]
        }
      ]
    }
  ]
}